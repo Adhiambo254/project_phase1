{
 "cells": [
  {
   "cell_type": "markdown",
   "id": "42af299c",
   "metadata": {},
   "source": [
    "# Title: Unveiling Cinematic Opportunities:\n",
    "\n",
    "**Navigating Microsoft's Dive into the Film Industry**"
   ]
  },
  {
   "cell_type": "markdown",
   "id": "4ebf37d3",
   "metadata": {},
   "source": [
    "# Overview\n",
    "Exploring the financial success of movie production involves examiningfactors such as profitability,genre,duration,budget, studio, director and actor experience."
   ]
  },
  {
   "cell_type": "markdown",
   "id": "732b181d",
   "metadata": {},
   "source": [
    "# 1.Business Understanding\n",
    "\n",
    "**Introduction.**\n",
    "\n",
    "In a bold move, Microsoft is venturing into the world of original video content creation, inspired by the success stories of major players in the industry. The tech giant aims to establish its own movie studio, poised to make a significant impact. However, the challenge lies in the unfamiliar terrain of film production. In light of this, the task at hand is to delve the current trends and preferences driving success in the film industry. By analyzing box office hits, identifying emerging genres, and understanding audience preferences, the key factors contributing to blockbuster success could be unveiled.\n",
    "\n",
    "\n",
    "The findings will be the cornerstone for making actionable insights. These insights will not only guide Microsoft's foray into filmmaking but will also empower the head of the new movie studio to make informed decisions on the types of films to produce. The main objective is ensuring the creation of films that resonate with audiences and propel the company into the spotlight of the entertainment industry\n",
    "\n",
    "**Defining the metric for success.**\n",
    "\n",
    "Microsoft's new movie studio lacks domain expertise in filmmaking and needs guidance on which film genres to focus on to maximize box office success. Leveraging historical box office data and exploring genre trends, this investigation will guide the choice of films they should produce. Box office revenues, ROI and ratings data will serve as indicators of financial viability and audience reception across different film genres. \n",
    "The success of our analysis will be measured by the following metrics:\n",
    "\n",
    "The analysis should accurately identify the film genres that have historically performed well at the box office.\n",
    "Revenue increase: \n",
    "Try to predict the profitability of a movie based on the features of the dataset. A movie is profitable if it makes more than at least 2 times the budget\n",
    "\n",
    "**Main objectives**\n",
    "\n",
    "The main goal is to craft a roadmap for creating films that captivate audiences and thrive financially.\n",
    "\n",
    "Specific Objectives:\n",
    "\n",
    "*Genre Mastery for Success:*\n",
    "Identify genres with the highest potential for revenue and audience acclaim, ensuring future films align with evolving tastes.\n",
    "\n",
    "*Beyond the Basics:*\n",
    "Influential Factors:\n",
    "Explore factors like budget, studio influence, and target audience demographics to understand their impact on a film's success.\n",
    "\n",
    "*Insights for Cinematic Brilliance:*\n",
    "Distill actionable recommendations aligning the studio's content strategy with audience preferences and market trends for increased success.\n",
    "\n",
    "**Experimental Approach**\n",
    "\n",
    "i.)Collecting Data\n",
    "\n",
    "ii.)Review and validate the dataset\n",
    "\n",
    "iii.)Refining the data through cleansing and type casting\n",
    "\n",
    "iv.)Conducting Exploratory Data Analysis\n",
    "\n",
    "v.)Modeling and Evaluating Features\n",
    "\n",
    "vi.)Drawing conclusions based on the evaluation\n",
    "\n",
    "**Questions To Consider**\n",
    "\n",
    "1.Is the film industry financially succesful?\n",
    " Indeed,it is depicted that more movies generate profit than losses.\n",
    " \n",
    "2.What challenges does a business face inthis project?\n",
    " A significant hurdle is the lack of clear direction.\n",
    " \n",
    "3.What factors contribute to a movie's financial success?\n",
    " Considerations include genre ,duration,studio, director, actor experience etc\n",
    "\n",
    "\n"
   ]
  },
  {
   "cell_type": "markdown",
   "id": "8ed4ecbf",
   "metadata": {},
   "source": [
    "# 2.Data Understanding:\n",
    "\n",
    "We're leveraging data from Box Office Mojo, IMDb, TMDB Movies, and TN Movie Budgets, focusing on the \"movie_basics,\" \"movie_ratings,\" \"movie_gross,\" and \"movie_budgets\" tables. Key data points include:\n",
    "\n",
    "1. **Box Office Performance:**\n",
    "   - \"movie_gross\" (Box Office Mojo): Extracting domestic and foreign gross data to understand revenue trends over the years.\n",
    "\n",
    "2. **Audience Reception:**\n",
    "   - \"movie_ratings\" (IMDb): Analyzing vote averages and counts to gauge audience sentiment and film popularity.\n",
    "\n",
    "3. **Genre and Language:**\n",
    "   - \"movie_basics\" (Box Office Mojo) and \"tmdb_movies\" (TMDB Movies): Exploring genre and original language data for insights into successful film characteristics.\n",
    "\n",
    "4. **Release Information:**\n",
    "   - \"movie_basics\" and \"tmdb_movies\": Utilizing release dates to identify patterns in successful movie launches.\n",
    "\n",
    "5. **Production Budgets:**\n",
    "   - \"movie_budgets\" (TN Movie Budgets): Understanding the financial aspect with production budget, domestic, and worldwide gross figures.\n",
    "\n",
    "This comprehensive dataset will provide actionable insights for Microsoft's movie studio, aiding decisions on genre selection, release strategies, and budget planning for a successful foray into the film industry.\n"
   ]
  },
  {
   "cell_type": "markdown",
   "id": "9ac56754",
   "metadata": {},
   "source": [
    "# 3. Data Preparation"
   ]
  },
  {
   "cell_type": "code",
   "execution_count": 1,
   "id": "8f3c390a",
   "metadata": {},
   "outputs": [],
   "source": [
    "#Import necessary libraries\n",
    "# 1. Pandas which is Essential for data manipulation and analysis\n",
    "import pandas as pd\n",
    "# 2. Numpy which will be Useful for numerical operations .\n",
    "import numpy as np\n",
    "# 3.Matplotlib and Seaborn:For data visualization to gain insights into trends and patterns.\n",
    "import matplotlib.pyplot as plt\n",
    "%matplotlib inline\n",
    "import seaborn as sns\n",
    "\n"
   ]
  },
  {
   "cell_type": "code",
   "execution_count": 2,
   "id": "94e1ba55",
   "metadata": {},
   "outputs": [],
   "source": [
    "# Specify file paths for the CSV files\n",
    "tmdb_movies_path = 'data/tmdb.movies.csv'\n",
    "tn_movie_budgets_path = 'data/tn.movie_budgets.csv'\n",
    "bom_movie_gross_path = 'data/bom.movie_gross.csv'\n",
    "\n",
    "# Read the CSV files into Pandas DataFrames\n",
    "tmdb_movies_df = pd.read_csv(tmdb_movies_path)\n",
    "tn_movie_budgets_df = pd.read_csv(tn_movie_budgets_path, index_col=0)\n",
    "bom_movie_gross_df = pd.read_csv(bom_movie_gross_path)\n"
   ]
  },
  {
   "cell_type": "markdown",
   "id": "a6510cfb",
   "metadata": {},
   "source": [
    "**View the first few rows of BOM DataFrame:**"
   ]
  },
  {
   "cell_type": "code",
   "execution_count": 4,
   "id": "8a135722",
   "metadata": {},
   "outputs": [
    {
     "name": "stdout",
     "output_type": "stream",
     "text": [
      "                                         title studio  domestic_gross  \\\n",
      "0                                  Toy Story 3     BV     415000000.0   \n",
      "1                   Alice in Wonderland (2010)     BV     334200000.0   \n",
      "2  Harry Potter and the Deathly Hallows Part 1     WB     296000000.0   \n",
      "3                                    Inception     WB     292600000.0   \n",
      "4                          Shrek Forever After   P/DW     238700000.0   \n",
      "\n",
      "  foreign_gross  year  \n",
      "0     652000000  2010  \n",
      "1     691300000  2010  \n",
      "2     664300000  2010  \n",
      "3     535700000  2010  \n",
      "4     513900000  2010  \n"
     ]
    }
   ],
   "source": [
    "print(bom_movie_gross_df.head())"
   ]
  },
  {
   "cell_type": "code",
   "execution_count": 6,
   "id": "b279137b",
   "metadata": {},
   "outputs": [
    {
     "name": "stdout",
     "output_type": "stream",
     "text": [
      "<class 'pandas.core.frame.DataFrame'>\n",
      "RangeIndex: 3387 entries, 0 to 3386\n",
      "Data columns (total 5 columns):\n",
      " #   Column          Non-Null Count  Dtype  \n",
      "---  ------          --------------  -----  \n",
      " 0   title           3387 non-null   object \n",
      " 1   studio          3382 non-null   object \n",
      " 2   domestic_gross  3359 non-null   float64\n",
      " 3   foreign_gross   2037 non-null   object \n",
      " 4   year            3387 non-null   int64  \n",
      "dtypes: float64(1), int64(1), object(3)\n",
      "memory usage: 132.4+ KB\n",
      "None\n"
     ]
    }
   ],
   "source": [
    "print(bom_movie_gross_df.info())"
   ]
  },
  {
   "cell_type": "markdown",
   "id": "40320d18",
   "metadata": {},
   "source": [
    "The dataset contains 3387 entries with information on movies, including titles, studios, domestic and foreign gross earnings, and release years.\n",
    "Missing values are present in the 'studio,' 'domestic_gross,' and 'foreign_gross' columns, which may require data cleaning"
   ]
  },
  {
   "cell_type": "markdown",
   "id": "9e5c2967",
   "metadata": {},
   "source": [
    " **1. Addressing Missing Values:**"
   ]
  },
  {
   "cell_type": "code",
   "execution_count": 8,
   "id": "c4a296f9",
   "metadata": {},
   "outputs": [
    {
     "data": {
      "text/plain": [
       "title                0\n",
       "studio               5\n",
       "domestic_gross      28\n",
       "foreign_gross     1350\n",
       "year                 0\n",
       "dtype: int64"
      ]
     },
     "execution_count": 8,
     "metadata": {},
     "output_type": "execute_result"
    }
   ],
   "source": [
    "# a. Identify Missing Values:\n",
    "bom_movie_gross_df.isnull().sum()\n"
   ]
  },
  {
   "cell_type": "code",
   "execution_count": 9,
   "id": "7059ac90",
   "metadata": {},
   "outputs": [],
   "source": [
    "# b. Impute Numerical Data:\n",
    "bom_movie_gross_df['domestic_gross'].fillna(bom_movie_gross_df['domestic_gross'].mean(), inplace=True)\n"
   ]
  },
  {
   "cell_type": "code",
   "execution_count": 11,
   "id": "b265e924",
   "metadata": {},
   "outputs": [],
   "source": [
    "# c. Impute Categorical Data:\n",
    "bom_movie_gross_df['studio'].fillna(bom_movie_gross_df['studio'].mode()[0], inplace=True)\n",
    "\n"
   ]
  },
  {
   "cell_type": "code",
   "execution_count": 12,
   "id": "79f5ede1",
   "metadata": {},
   "outputs": [],
   "source": [
    "# d. Drop Rows:\n",
    "bom_movie_gross_df.dropna(inplace=True)\n",
    "\n"
   ]
  },
  {
   "cell_type": "markdown",
   "id": "3e1bef0b",
   "metadata": {},
   "source": [
    "**Converting 'foreign_gross' to Numeric Type:**"
   ]
  },
  {
   "cell_type": "code",
   "execution_count": 13,
   "id": "d2012e6e",
   "metadata": {},
   "outputs": [
    {
     "data": {
      "text/plain": [
       "dtype('O')"
      ]
     },
     "execution_count": 13,
     "metadata": {},
     "output_type": "execute_result"
    }
   ],
   "source": [
    "# a. Check Data Type:\n",
    "bom_movie_gross_df['foreign_gross'].dtype\n"
   ]
  },
  {
   "cell_type": "code",
   "execution_count": 14,
   "id": "24948410",
   "metadata": {},
   "outputs": [],
   "source": [
    "# b. Convert to Numeric:\n",
    "bom_movie_gross_df['foreign_gross'] = pd.to_numeric(bom_movie_gross_df['foreign_gross'], errors='coerce')"
   ]
  },
  {
   "cell_type": "markdown",
   "id": "d3603d4d",
   "metadata": {},
   "source": [
    " **Handle Inconsistencies:**\n",
    "   - After conversion, check for inconsistencies or unexpected values in the 'foreign_gross' column."
   ]
  },
  {
   "cell_type": "code",
   "execution_count": 15,
   "id": "4634d570",
   "metadata": {},
   "outputs": [
    {
     "name": "stdout",
     "output_type": "stream",
     "text": [
      "Number of missing values in 'foreign_gross': 5\n"
     ]
    }
   ],
   "source": [
    "#Check for missing values\n",
    "missing_values = bom_movie_gross_df['foreign_gross'].isnull().sum()\n",
    "print(f\"Number of missing values in 'foreign_gross': {missing_values}\")\n"
   ]
  },
  {
   "cell_type": "code",
   "execution_count": 16,
   "id": "0787e3d3",
   "metadata": {},
   "outputs": [
    {
     "name": "stdout",
     "output_type": "stream",
     "text": [
      "Number of negative values in 'foreign_gross': 0\n"
     ]
    }
   ],
   "source": [
    "# Check for negative values\n",
    "negative_values = (bom_movie_gross_df['foreign_gross'] < 0).sum()\n",
    "print(f\"Number of negative values in 'foreign_gross': {negative_values}\")\n"
   ]
  },
  {
   "cell_type": "code",
   "execution_count": 17,
   "id": "3e9833dd",
   "metadata": {},
   "outputs": [
    {
     "name": "stdout",
     "output_type": "stream",
     "text": [
      "Number of values in 'foreign_gross' exceeding a threshold: 415\n"
     ]
    }
   ],
   "source": [
    "#Check for unexpected large values\n",
    "some_threshold = 100000000  # Adjust the threshold according to your dataset\n",
    "large_values = (bom_movie_gross_df['foreign_gross'] > some_threshold).sum()\n",
    "print(f\"Number of values in 'foreign_gross' exceeding a threshold: {large_values}\")\n"
   ]
  },
  {
   "cell_type": "code",
   "execution_count": 18,
   "id": "adea066d",
   "metadata": {},
   "outputs": [
    {
     "name": "stdout",
     "output_type": "stream",
     "text": [
      "Number of non-numeric values in 'foreign_gross': 0\n"
     ]
    }
   ],
   "source": [
    "#Check for non-numeric values (if the column should only contain numeric values)\n",
    "non_numeric_values = bom_movie_gross_df['foreign_gross'].apply(lambda x: not isinstance(x, (int, float)))\n",
    "print(f\"Number of non-numeric values in 'foreign_gross': {non_numeric_values.sum()}\")\n"
   ]
  },
  {
   "cell_type": "code",
   "execution_count": 19,
   "id": "09ff2519",
   "metadata": {},
   "outputs": [
    {
     "name": "stdout",
     "output_type": "stream",
     "text": [
      "Number of zero values in 'foreign_gross': 0\n"
     ]
    }
   ],
   "source": [
    "# Check for zero values if applicable\n",
    "zero_values = (bom_movie_gross_df['foreign_gross'] == 0).sum()\n",
    "print(f\"Number of zero values in 'foreign_gross': {zero_values}\")\n"
   ]
  },
  {
   "cell_type": "code",
   "execution_count": 20,
   "id": "0ee48b44",
   "metadata": {},
   "outputs": [
    {
     "name": "stdout",
     "output_type": "stream",
     "text": [
      "Descriptive statistics for 'foreign_gross':\n",
      "count    2.032000e+03\n",
      "mean     7.505704e+07\n",
      "std      1.375294e+08\n",
      "min      6.000000e+02\n",
      "25%      3.775000e+06\n",
      "50%      1.890000e+07\n",
      "75%      7.505000e+07\n",
      "max      9.605000e+08\n",
      "Name: foreign_gross, dtype: float64\n"
     ]
    }
   ],
   "source": [
    "# Check for outliers or anomalies using descriptive statistics\n",
    "print(\"Descriptive statistics for 'foreign_gross':\")\n",
    "print(bom_movie_gross_df['foreign_gross'].describe())\n"
   ]
  },
  {
   "cell_type": "code",
   "execution_count": 21,
   "id": "d11fa8fe",
   "metadata": {},
   "outputs": [
    {
     "data": {
      "image/png": "[encoded data removed]",
      "text/plain": [
       "<Figure size 1000x600 with 1 Axes>"
      ]
     },
     "metadata": {},
     "output_type": "display_data"
    }
   ],
   "source": [
    "#  Visualize the distribution of 'foreign_gross' using a histogram or boxplot\n",
    "\n",
    "plt.figure(figsize=(10, 6))\n",
    "plt.hist(bom_movie_gross_df['foreign_gross'].dropna(), bins=50, edgecolor='black')\n",
    "plt.title('Distribution of foreign_gross')\n",
    "plt.xlabel('foreign_gross')\n",
    "plt.ylabel('Frequency')\n",
    "plt.show()\n"
   ]
  },
  {
   "cell_type": "markdown",
   "id": "870712ce",
   "metadata": {},
   "source": [
    "**Verify Changes:**"
   ]
  },
  {
   "cell_type": "code",
   "execution_count": 23,
   "id": "6dc92993",
   "metadata": {},
   "outputs": [
    {
     "name": "stdout",
     "output_type": "stream",
     "text": [
      "<class 'pandas.core.frame.DataFrame'>\n",
      "Int64Index: 2037 entries, 0 to 3353\n",
      "Data columns (total 5 columns):\n",
      " #   Column          Non-Null Count  Dtype  \n",
      "---  ------          --------------  -----  \n",
      " 0   title           2037 non-null   object \n",
      " 1   studio          2037 non-null   object \n",
      " 2   domestic_gross  2037 non-null   float64\n",
      " 3   foreign_gross   2032 non-null   float64\n",
      " 4   year            2037 non-null   int64  \n",
      "dtypes: float64(2), int64(1), object(2)\n",
      "memory usage: 95.5+ KB\n"
     ]
    },
    {
     "data": {
      "text/plain": [
       "title             0\n",
       "studio            0\n",
       "domestic_gross    0\n",
       "foreign_gross     5\n",
       "year              0\n",
       "dtype: int64"
      ]
     },
     "execution_count": 23,
     "metadata": {},
     "output_type": "execute_result"
    }
   ],
   "source": [
    "# a. Verify Imputation:\n",
    "bom_movie_gross_df.info()\n",
    "bom_movie_gross_df.isnull().sum()"
   ]
  },
  {
   "cell_type": "markdown",
   "id": "3f2fbe48",
   "metadata": {},
   "source": [
    "**2. Removing Outliers:**"
   ]
  },
  {
   "cell_type": "code",
   "execution_count": 24,
   "id": "41e371a9",
   "metadata": {},
   "outputs": [
    {
     "name": "stdout",
     "output_type": "stream",
     "text": [
      "count    2.037000e+03\n",
      "mean     4.672257e+07\n",
      "std      8.106442e+07\n",
      "min      4.000000e+02\n",
      "25%      6.970000e+05\n",
      "50%      1.750000e+07\n",
      "75%      5.550000e+07\n",
      "max      9.367000e+08\n",
      "Name: domestic_gross, dtype: float64\n"
     ]
    }
   ],
   "source": [
    "# summary statistics of the 'domestic_gross' column before any changes.\n",
    "print(bom_movie_gross_df['domestic_gross'].describe())\n"
   ]
  },
  {
   "cell_type": "code",
   "execution_count": 25,
   "id": "041e43f2",
   "metadata": {},
   "outputs": [
    {
     "data": {
      "image/png": "[encoded data removed]",
      "text/plain": [
       "<Figure size 640x480 with 1 Axes>"
      ]
     },
     "metadata": {},
     "output_type": "display_data"
    }
   ],
   "source": [
    "#box plot to visualize the distribution of 'domestic_gross' before handling outliers.\n",
    "sns.boxplot(x=bom_movie_gross_df['domestic_gross'])\n",
    "plt.show()\n"
   ]
  },
  {
   "cell_type": "markdown",
   "id": "70c52fc3",
   "metadata": {},
   "source": [
    "**a. Identify Outliers:**"
   ]
  },
  {
   "cell_type": "markdown",
   "id": "11877be2",
   "metadata": {},
   "source": [
    "Use statistical methods such as the IQR (Interquartile Range) to identify potential outliers."
   ]
  },
  {
   "cell_type": "code",
   "execution_count": 27,
   "id": "0843af4e",
   "metadata": {},
   "outputs": [],
   "source": [
    "Q1 = bom_movie_gross_df['domestic_gross'].quantile(0.25)\n",
    "Q3 = bom_movie_gross_df['domestic_gross'].quantile(0.75)\n",
    "IQR = Q3 - Q1\n",
    "lower_bound = Q1 - 1.5 * IQR\n",
    "upper_bound = Q3 + 1.5 * IQR\n",
    "outliers = bom_movie_gross_df[(bom_movie_gross_df['domestic_gross'] < lower_bound) | (bom_movie_gross_df['domestic_gross'] > upper_bound)]"
   ]
  },
  {
   "cell_type": "markdown",
   "id": "1ebb854a",
   "metadata": {},
   "source": [
    "**b. Remove Outliers:**"
   ]
  },
  {
   "cell_type": "code",
   "execution_count": 28,
   "id": "6348a78c",
   "metadata": {},
   "outputs": [],
   "source": [
    "bom_movie_gross_df = bom_movie_gross_df[(bom_movie_gross_df['domestic_gross'] >= lower_bound) & (bom_movie_gross_df['domestic_gross'] <= upper_bound)]\n"
   ]
  },
  {
   "cell_type": "markdown",
   "id": "5936d9db",
   "metadata": {},
   "source": [
    "**c. Transforming Data:**"
   ]
  },
  {
   "cell_type": "code",
   "execution_count": 29,
   "id": "c2305737",
   "metadata": {},
   "outputs": [],
   "source": [
    "bom_movie_gross_df['domestic_gross_log'] = np.log1p(bom_movie_gross_df['domestic_gross'])"
   ]
  },
  {
   "cell_type": "markdown",
   "id": "55eb4b9c",
   "metadata": {},
   "source": [
    "**d. Verify Changes**"
   ]
  },
  {
   "cell_type": "code",
   "execution_count": 31,
   "id": "b9f38d3e",
   "metadata": {
    "scrolled": true
   },
   "outputs": [
    {
     "name": "stdout",
     "output_type": "stream",
     "text": [
      "count    1.854000e+03\n",
      "mean     2.634847e+07\n",
      "std      3.292757e+07\n",
      "min      4.000000e+02\n",
      "25%      5.335000e+05\n",
      "50%      1.200000e+07\n",
      "75%      4.247500e+07\n",
      "max      1.377000e+08\n",
      "Name: domestic_gross, dtype: float64\n"
     ]
    }
   ],
   "source": [
    "# summary statistics  after handling outliers.\n",
    "print(bom_movie_gross_df['domestic_gross'].describe())"
   ]
  },
  {
   "cell_type": "code",
   "execution_count": 32,
   "id": "feade31a",
   "metadata": {},
   "outputs": [
    {
     "data": {
      "image/png": "[encoded data removed]",
      "text/plain": [
       "<Figure size 640x480 with 1 Axes>"
      ]
     },
     "metadata": {},
     "output_type": "display_data"
    }
   ],
   "source": [
    "#boxplot to visualize the distribution of 'domestic_gross' AFTER handling outliers.\n",
    "sns.boxplot(x=bom_movie_gross_df['domestic_gross'])\n",
    "plt.show()"
   ]
  }
 ],
 "metadata": {
  "kernelspec": {
   "display_name": "Python 3 (ipykernel)",
   "language": "python",
   "name": "python3"
  },
  "language_info": {
   "codemirror_mode": {
    "name": "ipython",
    "version": 3
   },
   "file_extension": ".py",
   "mimetype": "text/x-python",
   "name": "python",
   "nbconvert_exporter": "python",
   "pygments_lexer": "ipython3",
   "version": "3.11.5"
  }
 },
 "nbformat": 4,
 "nbformat_minor": 5
}
